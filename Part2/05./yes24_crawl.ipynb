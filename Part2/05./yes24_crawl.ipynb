{
 "cells": [
  {
   "cell_type": "markdown",
   "metadata": {},
   "source": [
    "### 예스24 크롤링"
   ]
  },
  {
   "cell_type": "code",
   "execution_count": null,
   "metadata": {},
   "outputs": [],
   "source": [
    "# webdriver-manager 라이브러리 불러오기\n",
    "\n",
    "from webdriver_manager.chrome import ChromeDriverManager\n",
    "ChromeDriverManager().install()"
   ]
  },
  {
   "cell_type": "code",
   "execution_count": null,
   "metadata": {},
   "outputs": [],
   "source": [
    "from selenium import webdriver\n",
    "\n",
    "browser = webdriver.Chrome()"
   ]
  },
  {
   "cell_type": "code",
   "execution_count": null,
   "metadata": {},
   "outputs": [],
   "source": [
    "from selenium.webdriver.common.by import By\n",
    "url = 'https://www.yes24.com/Product/Category/BestSeller?categoryNumber=001&pageNumber=1&pageSize=24'\n",
    "browser.get(url)"
   ]
  },
  {
   "cell_type": "code",
   "execution_count": null,
   "metadata": {},
   "outputs": [],
   "source": [
    "# 1 페이지의 링크 데이터 전부 수집\n",
    "\n",
    "### 한 개의 베스트 셀러 링크 수집\n",
    "browser.find_element(By.CLASS_NAME, 'gd_name').get_attribute('href')  # 요소\n",
    "\n",
    "### 한 페이지 전체의 링크 데이터\n",
    "datas = browser.find_elements(By.CLASS_NAME, 'gd_name')  # 리스트\n",
    "\n",
    "for i in datas :\n",
    "    print(i.get_attribute('href'))\n"
   ]
  },
  {
   "cell_type": "code",
   "execution_count": null,
   "metadata": {},
   "outputs": [],
   "source": [
    "# 3 페이지까지의 링크 데이터 전부 수집\n",
    "# https://www.yes24.com/Product/Category/BestSeller?categoryNumber=001&pageNumber=1&pageSize=24    1페이지\n",
    "# https://www.yes24.com/Product/Category/BestSeller?categoryNumber=001&pageNumber=2&pageSize=24    2페이지\n",
    "# https://www.yes24.com/Product/Category/BestSeller?categoryNumber=001&pageNumber=3&pageSize=24    3페이지\n",
    "\n",
    "import time\n",
    "\n",
    "link_list = []\n",
    "for i in range(1, 4) :\n",
    "    print('*' * 10, f'{i}페이지 수집 중입니다.', '*' * 10)\n",
    "    url = f'https://www.yes24.com/Product/Category/BestSeller?categoryNumber=001&pageNumber={i}&pageSize=24'\n",
    "    browser.get(url)\n",
    "\n",
    "    # 링크데이터 수집\n",
    "    browser.find_element(By.CLASS_NAME, 'gd_name').get_attribute('href')\n",
    "\n",
    "    ### 한 페이지 전체의 링크 데이터\n",
    "    datas = browser.find_elements(By.CLASS_NAME, 'gd_name')  # 리스트\n",
    "\n",
    "    for i in datas :\n",
    "        link = i.get_attribute('href')   # print문 해놨다가 에러 발생\n",
    "\n",
    "        link_list.append(link)\n",
    "\n",
    "    time.sleep(3)\n",
    "\n",
    "    # print(link_list)"
   ]
  },
  {
   "cell_type": "code",
   "execution_count": null,
   "metadata": {},
   "outputs": [],
   "source": [
    "len(link_list)"
   ]
  },
  {
   "cell_type": "code",
   "execution_count": null,
   "metadata": {},
   "outputs": [],
   "source": [
    "# 데이터 베이스 연동 후 -> 수집한 데이터를  DB에 저장 (csv)\n",
    "\n",
    "import pymysql\n",
    "import time\n",
    "import re\n",
    "from datetime import datetime\n",
    "\n",
    "# 연결\n",
    "conn = pymysql.connect(\n",
    "    host='localhost',\n",
    "    user='root',\n",
    "    password='QOR0625dps@em02!',\n",
    "    db='yes24',\n",
    "    charset='utf8mb4',\n",
    "    cursorclass=pymysql.cursors.DictCursor\n",
    ")\n",
    "\n",
    "# 접속\n",
    "with conn.cursor() as cur :\n",
    "    for link in link_list :     \n",
    "        browser.get(link)\n",
    "        \n",
    "        # title(제목)\n",
    "        title = browser.find_element(By.CLASS_NAME, 'gd_name').text\n",
    "        # author(저자)\n",
    "        author = browser.find_element(By.CLASS_NAME, 'gd_auth').text\n",
    "        # publisher(출판사)\n",
    "        publisher = browser.find_element(By.CLASS_NAME, 'gd_pub').text\n",
    "        # publishing(출판일)\n",
    "        publishing = browser.find_element(By.CLASS_NAME, 'gd_date').text  # 데이터 형식\n",
    "        match = re.search(r'(\\d+)년 (\\d+)월 (\\d+)일', publishing)\n",
    "        if match :\n",
    "            year, month, day = match.groups()\n",
    "            data_obj = datetime(int(year), int(month), int(day))\n",
    "            publishing = data_obj.strftime('%Y-%m-%d') # Y 연도만 대문자 사용\n",
    "        else :\n",
    "            publishing = '2023-01-01'\n",
    "\n",
    "        # rating(평점)\n",
    "        rating = browser.find_element(By.CLASS_NAME, 'yes_b').text\n",
    "        if rating == '' :\n",
    "            rating = 0\n",
    "        # review(리뷰)\n",
    "        review = browser.find_element(By.CLASS_NAME, 'gd_reviewCount').text\n",
    "        if len(review) == 15 :\n",
    "            review = 0\n",
    "        else :\n",
    "            review = review.split('(')[1][:-2]\n",
    "            review = int(review.replace(',', ''))\n",
    "        # sales(판매지수)\n",
    "        sales = browser.find_element(By.CLASS_NAME, 'gd_sellNum').text.split(' ')[2]\n",
    "        sales = int(sales.replace(',', ''))\n",
    "        # price(가격)\n",
    "        price = browser.find_element(By.CLASS_NAME, 'yes_m').text[:-1]\n",
    "        price = int(price.replace(',', ''))\n",
    "        # ranking(국내도서랭킹)\n",
    "        # ranking_weeks(국내도서TOP100)\n",
    "        full_text = browser.find_element(By.CLASS_NAME, 'gd_best').text\n",
    "        parts = full_text.split(' | ')\n",
    "\n",
    "        if len(parts) == 1:\n",
    "            ranking = 0\n",
    "            ranking_weeks = 0\n",
    "        else:\n",
    "            try:\n",
    "                ranking_part = parts[0]\n",
    "                ranking = ''.join(filter(str.isdigit, ranking_part))\n",
    "            except:\n",
    "                ranking = 0\n",
    "\n",
    "            try:\n",
    "                # 국내도서 top20 3주\n",
    "                ranking_weeks_part = parts[1]\n",
    "                ranking_weeks = ''.join(filter(str.isdigit, ranking_weeks_part.split()[-1]))\n",
    "            except:\n",
    "                ranking_weeks = 0\n",
    "\n",
    "        # sql문 작성    \n",
    "        sql = '''INSERT INTO Books(title, author, publisher, publishing, rating, review, sales, price, ranking, ranking_weeks)\n",
    "                VALUES(%s, %s, %s, %s, %s, %s, %s, %s, %s, %s)'''\n",
    "        # 수행\n",
    "        cur.execute(sql, (title, author, publisher, publishing, rating, review, sales, price, ranking, ranking_weeks))\n",
    "        # 반영\n",
    "        conn.commit()\n",
    "\n",
    "        time.sleep(2)"
   ]
  },
  {
   "cell_type": "code",
   "execution_count": null,
   "metadata": {},
   "outputs": [],
   "source": []
  }
 ],
 "metadata": {
  "kernelspec": {
   "display_name": ".venv",
   "language": "python",
   "name": "python3"
  },
  "language_info": {
   "codemirror_mode": {
    "name": "ipython",
    "version": 3
   },
   "file_extension": ".py",
   "mimetype": "text/x-python",
   "name": "python",
   "nbconvert_exporter": "python",
   "pygments_lexer": "ipython3",
   "version": "3.12.1"
  }
 },
 "nbformat": 4,
 "nbformat_minor": 2
}
